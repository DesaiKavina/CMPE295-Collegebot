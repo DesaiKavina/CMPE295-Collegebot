{
 "cells": [
  {
   "cell_type": "code",
   "execution_count": 54,
   "metadata": {},
   "outputs": [],
   "source": [
    "import pandas as pd\n",
    "import re\n",
    "import numpy as np\n",
    "\n",
    "pd.set_option(\"display.max_colwidth\", 10000)\n",
    "\n",
    "chatbot_data = pd.read_csv(\"../chatbot_data.csv\", keep_default_na = False)\n",
    "\n",
    "r, c = chatbot_data.shape"
   ]
  },
  {
   "cell_type": "code",
   "execution_count": null,
   "metadata": {},
   "outputs": [],
   "source": [
    "column_names = [\"Questions and Answers\"]\n",
    "new_df = pd.DataFrame(columns = column_names)\n",
    "\n",
    "for i in range(0,r):\n",
    "    question = chatbot_data.loc[i][0]\n",
    "    answer = chatbot_data.loc[i][1]\n",
    "    links = chatbot_data.loc[i][2]\n",
    "    question = str(question).strip()\n",
    "    answer = str(answer).strip()\n",
    "    links = str(links).strip()\n",
    "    if \"\\n\" in question:\n",
    "        question = question.replace(\"\\n\", \" \")\n",
    "        question = re.sub(r'\\s+', ' ', question)\n",
    "    if \"\\n\" in answer:\n",
    "        answer = answer.replace(\"\\n\", \" \")\n",
    "        answer = re.sub(r'\\s+', ' ', answer)\n",
    "    if \"\\n\" in links:\n",
    "        links = links.replace(\"\\n\", \" \")\n",
    "        links = re.sub(r'\\s+', ' ', links)\n",
    "    final_text = question + \" *-* \" + answer + \" \" + links\n",
    "    new_df = new_df.append(pd.Series([final_text], index=new_df.columns ), ignore_index=True)\n",
    "    \n",
    "print(new_df.head(10))\n",
    "\n",
    "new_df.to_csv('../formatted_data.txt', header=None, index=None, sep=' ', mode='a')\n",
    "\n",
    "print(\"\\nDone!!!!!\")"
   ]
  },
  {
   "cell_type": "code",
   "execution_count": null,
   "metadata": {},
   "outputs": [],
   "source": []
  }
 ],
 "metadata": {
  "kernelspec": {
   "display_name": "Python 3",
   "language": "python",
   "name": "python3"
  },
  "language_info": {
   "codemirror_mode": {
    "name": "ipython",
    "version": 3
   },
   "file_extension": ".py",
   "mimetype": "text/x-python",
   "name": "python",
   "nbconvert_exporter": "python",
   "pygments_lexer": "ipython3",
   "version": "3.7.4"
  }
 },
 "nbformat": 4,
 "nbformat_minor": 2
}
